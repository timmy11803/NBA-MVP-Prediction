{
 "cells": [
  {
   "cell_type": "code",
   "execution_count": 9,
   "id": "eabfd951",
   "metadata": {
    "vscode": {
     "languageId": "plaintext"
    }
   },
   "outputs": [
    {
     "name": "stdout",
     "output_type": "stream",
     "text": [
      "Requirement already satisfied: requests in c:\\users\\timothy betancourt\\anaconda3\\lib\\site-packages (2.31.0)\n",
      "Requirement already satisfied: charset-normalizer<4,>=2 in c:\\users\\timothy betancourt\\anaconda3\\lib\\site-packages (from requests) (2.0.4)\n",
      "Requirement already satisfied: idna<4,>=2.5 in c:\\users\\timothy betancourt\\anaconda3\\lib\\site-packages (from requests) (3.4)\n",
      "Requirement already satisfied: urllib3<3,>=1.21.1 in c:\\users\\timothy betancourt\\anaconda3\\lib\\site-packages (from requests) (1.26.16)\n",
      "Requirement already satisfied: certifi>=2017.4.17 in c:\\users\\timothy betancourt\\anaconda3\\lib\\site-packages (from requests) (2023.7.22)\n"
     ]
    }
   ],
   "source": [
    "!pip install requests"
   ]
  },
  {
   "cell_type": "markdown",
   "id": "aee50fac-a5d5-4dd6-98e0-b96803685427",
   "metadata": {},
   "source": [
    "Will be pulling data from 1991-2021 so that we can see if our ML model will be accurate based on the sequential  years results"
   ]
  },
  {
   "cell_type": "code",
   "execution_count": 10,
   "id": "4f3752aa",
   "metadata": {
    "tags": [],
    "vscode": {
     "languageId": "plaintext"
    }
   },
   "outputs": [],
   "source": [
    "years = list(range(1991,2022))"
   ]
  },
  {
   "cell_type": "code",
   "execution_count": 11,
   "id": "f891e336",
   "metadata": {
    "tags": []
   },
   "outputs": [],
   "source": [
    "url_start = \"https://www.basketball-reference.com/awards/awards_{}.html\""
   ]
  },
  {
   "cell_type": "code",
   "execution_count": 12,
   "id": "ade6e1ad",
   "metadata": {
    "tags": []
   },
   "outputs": [],
   "source": [
    "import requests\n",
    "\n",
    "for year in years:\n",
    "    url = url_start.format(year)\n",
    "    data = requests.get(url)\n",
    "    \n",
    "    with open(\"mvp/{}.html\".format(year), \"w+\", encoding='utf-8') as f:\n",
    "        f.write(data.text)"
   ]
  },
  {
   "cell_type": "code",
   "execution_count": 13,
   "id": "7848297c",
   "metadata": {
    "tags": []
   },
   "outputs": [
    {
     "name": "stdout",
     "output_type": "stream",
     "text": [
      "Requirement already satisfied: beautifulsoup4 in c:\\users\\timothy betancourt\\anaconda3\\lib\\site-packages (4.12.2)\n",
      "Requirement already satisfied: soupsieve>1.2 in c:\\users\\timothy betancourt\\anaconda3\\lib\\site-packages (from beautifulsoup4) (2.4)\n"
     ]
    }
   ],
   "source": [
    "!pip install beautifulsoup4"
   ]
  },
  {
   "cell_type": "code",
   "execution_count": 14,
   "id": "0d73de8b-5cc2-4a33-9440-a8e09e98eb85",
   "metadata": {
    "tags": []
   },
   "outputs": [],
   "source": [
    "from bs4 import BeautifulSoup"
   ]
  },
  {
   "cell_type": "code",
   "execution_count": 15,
   "id": "071d2373-8921-4217-825e-4fdbc7863017",
   "metadata": {
    "tags": []
   },
   "outputs": [],
   "source": [
    "with open(\"mvp/1991.html\", encoding='utf-8') as f:\n",
    "    page = f.read()"
   ]
  },
  {
   "cell_type": "code",
   "execution_count": 16,
   "id": "e2949ca8-9bd5-4ef4-a2c7-73cf2cfea43e",
   "metadata": {
    "tags": []
   },
   "outputs": [],
   "source": [
    "soup = BeautifulSoup(page, \"html.parser\")"
   ]
  },
  {
   "cell_type": "markdown",
   "id": "a0280f04-fdc0-4013-a3b4-861138817343",
   "metadata": {},
   "source": [
    "Remove header of table by removing the 'tr' class"
   ]
  },
  {
   "cell_type": "code",
   "execution_count": 17,
   "id": "1ccb85af-a5fc-4c8d-b2bb-60498b6c8de0",
   "metadata": {
    "tags": []
   },
   "outputs": [],
   "source": [
    "soup.find('tr',class_=\"over_header\").decompose()"
   ]
  },
  {
   "cell_type": "markdown",
   "id": "c15d4d6e-5ccb-4336-8b4a-80d73ce0390d",
   "metadata": {},
   "source": [
    "Pull the table by pulling it's id which is \"mvp\""
   ]
  },
  {
   "cell_type": "code",
   "execution_count": 18,
   "id": "6efb5305-142f-4803-ae3d-fccdcc507bbd",
   "metadata": {
    "tags": []
   },
   "outputs": [],
   "source": [
    "mvp_table = soup.find(id=\"mvp\")"
   ]
  },
  {
   "cell_type": "code",
   "execution_count": 19,
   "id": "3a95bdf9-6fe3-4ba9-ab19-8116b4cf2f80",
   "metadata": {
    "tags": []
   },
   "outputs": [],
   "source": [
    "import pandas as pd"
   ]
  },
  {
   "cell_type": "code",
   "execution_count": 20,
   "id": "57e211ee-5630-452e-a937-6d423a7ff170",
   "metadata": {
    "tags": []
   },
   "outputs": [],
   "source": [
    "mvp_1991 = pd.read_html(str(mvp_table))[0]"
   ]
  },
  {
   "cell_type": "code",
   "execution_count": 21,
   "id": "a9f422a5-2d53-4718-8f08-428a6fe873fa",
   "metadata": {
    "tags": []
   },
   "outputs": [
    {
     "data": {
      "text/html": [
       "<div>\n",
       "<style scoped>\n",
       "    .dataframe tbody tr th:only-of-type {\n",
       "        vertical-align: middle;\n",
       "    }\n",
       "\n",
       "    .dataframe tbody tr th {\n",
       "        vertical-align: top;\n",
       "    }\n",
       "\n",
       "    .dataframe thead th {\n",
       "        text-align: right;\n",
       "    }\n",
       "</style>\n",
       "<table border=\"1\" class=\"dataframe\">\n",
       "  <thead>\n",
       "    <tr style=\"text-align: right;\">\n",
       "      <th></th>\n",
       "      <th>Rank</th>\n",
       "      <th>Player</th>\n",
       "      <th>Age</th>\n",
       "      <th>Tm</th>\n",
       "      <th>First</th>\n",
       "      <th>Pts Won</th>\n",
       "      <th>Pts Max</th>\n",
       "      <th>Share</th>\n",
       "      <th>G</th>\n",
       "      <th>MP</th>\n",
       "      <th>PTS</th>\n",
       "      <th>TRB</th>\n",
       "      <th>AST</th>\n",
       "      <th>STL</th>\n",
       "      <th>BLK</th>\n",
       "      <th>FG%</th>\n",
       "      <th>3P%</th>\n",
       "      <th>FT%</th>\n",
       "      <th>WS</th>\n",
       "      <th>WS/48</th>\n",
       "    </tr>\n",
       "  </thead>\n",
       "  <tbody>\n",
       "    <tr>\n",
       "      <th>0</th>\n",
       "      <td>1</td>\n",
       "      <td>Hakeem Olajuwon</td>\n",
       "      <td>31</td>\n",
       "      <td>HOU</td>\n",
       "      <td>66</td>\n",
       "      <td>889</td>\n",
       "      <td>1010</td>\n",
       "      <td>0.880</td>\n",
       "      <td>80</td>\n",
       "      <td>41.0</td>\n",
       "      <td>27.3</td>\n",
       "      <td>11.9</td>\n",
       "      <td>3.6</td>\n",
       "      <td>1.6</td>\n",
       "      <td>3.7</td>\n",
       "      <td>0.528</td>\n",
       "      <td>0.421</td>\n",
       "      <td>0.716</td>\n",
       "      <td>14.3</td>\n",
       "      <td>0.210</td>\n",
       "    </tr>\n",
       "    <tr>\n",
       "      <th>1</th>\n",
       "      <td>2</td>\n",
       "      <td>David Robinson</td>\n",
       "      <td>28</td>\n",
       "      <td>SAS</td>\n",
       "      <td>24</td>\n",
       "      <td>730</td>\n",
       "      <td>1010</td>\n",
       "      <td>0.723</td>\n",
       "      <td>80</td>\n",
       "      <td>40.5</td>\n",
       "      <td>29.8</td>\n",
       "      <td>10.7</td>\n",
       "      <td>4.8</td>\n",
       "      <td>1.7</td>\n",
       "      <td>3.3</td>\n",
       "      <td>0.507</td>\n",
       "      <td>0.345</td>\n",
       "      <td>0.749</td>\n",
       "      <td>20.0</td>\n",
       "      <td>0.296</td>\n",
       "    </tr>\n",
       "    <tr>\n",
       "      <th>2</th>\n",
       "      <td>3</td>\n",
       "      <td>Scottie Pippen</td>\n",
       "      <td>28</td>\n",
       "      <td>CHI</td>\n",
       "      <td>7</td>\n",
       "      <td>390</td>\n",
       "      <td>1010</td>\n",
       "      <td>0.386</td>\n",
       "      <td>72</td>\n",
       "      <td>38.3</td>\n",
       "      <td>22.0</td>\n",
       "      <td>8.7</td>\n",
       "      <td>5.6</td>\n",
       "      <td>2.9</td>\n",
       "      <td>0.8</td>\n",
       "      <td>0.491</td>\n",
       "      <td>0.320</td>\n",
       "      <td>0.660</td>\n",
       "      <td>11.2</td>\n",
       "      <td>0.194</td>\n",
       "    </tr>\n",
       "    <tr>\n",
       "      <th>3</th>\n",
       "      <td>4</td>\n",
       "      <td>Shaquille O'Neal</td>\n",
       "      <td>21</td>\n",
       "      <td>ORL</td>\n",
       "      <td>3</td>\n",
       "      <td>289</td>\n",
       "      <td>1010</td>\n",
       "      <td>0.286</td>\n",
       "      <td>81</td>\n",
       "      <td>39.8</td>\n",
       "      <td>29.3</td>\n",
       "      <td>13.2</td>\n",
       "      <td>2.4</td>\n",
       "      <td>0.9</td>\n",
       "      <td>2.9</td>\n",
       "      <td>0.599</td>\n",
       "      <td>0.000</td>\n",
       "      <td>0.554</td>\n",
       "      <td>16.9</td>\n",
       "      <td>0.252</td>\n",
       "    </tr>\n",
       "    <tr>\n",
       "      <th>4</th>\n",
       "      <td>5</td>\n",
       "      <td>Patrick Ewing</td>\n",
       "      <td>31</td>\n",
       "      <td>NYK</td>\n",
       "      <td>1</td>\n",
       "      <td>255</td>\n",
       "      <td>1010</td>\n",
       "      <td>0.252</td>\n",
       "      <td>79</td>\n",
       "      <td>37.6</td>\n",
       "      <td>24.5</td>\n",
       "      <td>11.2</td>\n",
       "      <td>2.3</td>\n",
       "      <td>1.1</td>\n",
       "      <td>2.7</td>\n",
       "      <td>0.496</td>\n",
       "      <td>0.286</td>\n",
       "      <td>0.765</td>\n",
       "      <td>13.1</td>\n",
       "      <td>0.211</td>\n",
       "    </tr>\n",
       "    <tr>\n",
       "      <th>5</th>\n",
       "      <td>6</td>\n",
       "      <td>Gary Payton</td>\n",
       "      <td>25</td>\n",
       "      <td>SEA</td>\n",
       "      <td>0</td>\n",
       "      <td>20</td>\n",
       "      <td>1010</td>\n",
       "      <td>0.020</td>\n",
       "      <td>82</td>\n",
       "      <td>35.1</td>\n",
       "      <td>16.5</td>\n",
       "      <td>3.3</td>\n",
       "      <td>6.0</td>\n",
       "      <td>2.3</td>\n",
       "      <td>0.2</td>\n",
       "      <td>0.504</td>\n",
       "      <td>0.278</td>\n",
       "      <td>0.595</td>\n",
       "      <td>9.3</td>\n",
       "      <td>0.155</td>\n",
       "    </tr>\n",
       "    <tr>\n",
       "      <th>6</th>\n",
       "      <td>7T</td>\n",
       "      <td>Shawn Kemp</td>\n",
       "      <td>24</td>\n",
       "      <td>SEA</td>\n",
       "      <td>0</td>\n",
       "      <td>17</td>\n",
       "      <td>1010</td>\n",
       "      <td>0.017</td>\n",
       "      <td>79</td>\n",
       "      <td>32.9</td>\n",
       "      <td>18.1</td>\n",
       "      <td>10.8</td>\n",
       "      <td>2.6</td>\n",
       "      <td>1.8</td>\n",
       "      <td>2.1</td>\n",
       "      <td>0.538</td>\n",
       "      <td>0.250</td>\n",
       "      <td>0.741</td>\n",
       "      <td>11.7</td>\n",
       "      <td>0.216</td>\n",
       "    </tr>\n",
       "    <tr>\n",
       "      <th>7</th>\n",
       "      <td>7T</td>\n",
       "      <td>Karl Malone</td>\n",
       "      <td>30</td>\n",
       "      <td>UTA</td>\n",
       "      <td>0</td>\n",
       "      <td>17</td>\n",
       "      <td>1010</td>\n",
       "      <td>0.017</td>\n",
       "      <td>82</td>\n",
       "      <td>40.6</td>\n",
       "      <td>25.2</td>\n",
       "      <td>11.5</td>\n",
       "      <td>4.0</td>\n",
       "      <td>1.5</td>\n",
       "      <td>1.5</td>\n",
       "      <td>0.497</td>\n",
       "      <td>0.250</td>\n",
       "      <td>0.694</td>\n",
       "      <td>13.4</td>\n",
       "      <td>0.193</td>\n",
       "    </tr>\n",
       "    <tr>\n",
       "      <th>8</th>\n",
       "      <td>9</td>\n",
       "      <td>Mark Price</td>\n",
       "      <td>29</td>\n",
       "      <td>CLE</td>\n",
       "      <td>0</td>\n",
       "      <td>7</td>\n",
       "      <td>1010</td>\n",
       "      <td>0.007</td>\n",
       "      <td>76</td>\n",
       "      <td>31.4</td>\n",
       "      <td>17.3</td>\n",
       "      <td>3.0</td>\n",
       "      <td>7.8</td>\n",
       "      <td>1.4</td>\n",
       "      <td>0.1</td>\n",
       "      <td>0.478</td>\n",
       "      <td>0.397</td>\n",
       "      <td>0.888</td>\n",
       "      <td>10.0</td>\n",
       "      <td>0.201</td>\n",
       "    </tr>\n",
       "    <tr>\n",
       "      <th>9</th>\n",
       "      <td>10</td>\n",
       "      <td>Charles Barkley</td>\n",
       "      <td>30</td>\n",
       "      <td>PHO</td>\n",
       "      <td>0</td>\n",
       "      <td>5</td>\n",
       "      <td>1010</td>\n",
       "      <td>0.005</td>\n",
       "      <td>65</td>\n",
       "      <td>35.4</td>\n",
       "      <td>21.6</td>\n",
       "      <td>11.2</td>\n",
       "      <td>4.6</td>\n",
       "      <td>1.6</td>\n",
       "      <td>0.6</td>\n",
       "      <td>0.495</td>\n",
       "      <td>0.270</td>\n",
       "      <td>0.704</td>\n",
       "      <td>8.8</td>\n",
       "      <td>0.185</td>\n",
       "    </tr>\n",
       "    <tr>\n",
       "      <th>10</th>\n",
       "      <td>11T</td>\n",
       "      <td>Mookie Blaylock</td>\n",
       "      <td>26</td>\n",
       "      <td>ATL</td>\n",
       "      <td>0</td>\n",
       "      <td>1</td>\n",
       "      <td>1010</td>\n",
       "      <td>0.001</td>\n",
       "      <td>81</td>\n",
       "      <td>36.0</td>\n",
       "      <td>13.8</td>\n",
       "      <td>5.2</td>\n",
       "      <td>9.7</td>\n",
       "      <td>2.6</td>\n",
       "      <td>0.5</td>\n",
       "      <td>0.411</td>\n",
       "      <td>0.334</td>\n",
       "      <td>0.730</td>\n",
       "      <td>10.2</td>\n",
       "      <td>0.168</td>\n",
       "    </tr>\n",
       "    <tr>\n",
       "      <th>11</th>\n",
       "      <td>11T</td>\n",
       "      <td>Kevin Johnson</td>\n",
       "      <td>27</td>\n",
       "      <td>PHO</td>\n",
       "      <td>0</td>\n",
       "      <td>1</td>\n",
       "      <td>1010</td>\n",
       "      <td>0.001</td>\n",
       "      <td>67</td>\n",
       "      <td>36.6</td>\n",
       "      <td>20.0</td>\n",
       "      <td>2.5</td>\n",
       "      <td>9.5</td>\n",
       "      <td>1.9</td>\n",
       "      <td>0.1</td>\n",
       "      <td>0.487</td>\n",
       "      <td>0.222</td>\n",
       "      <td>0.819</td>\n",
       "      <td>8.7</td>\n",
       "      <td>0.170</td>\n",
       "    </tr>\n",
       "    <tr>\n",
       "      <th>12</th>\n",
       "      <td>11T</td>\n",
       "      <td>Dennis Rodman</td>\n",
       "      <td>32</td>\n",
       "      <td>SAS</td>\n",
       "      <td>0</td>\n",
       "      <td>1</td>\n",
       "      <td>1010</td>\n",
       "      <td>0.001</td>\n",
       "      <td>79</td>\n",
       "      <td>37.8</td>\n",
       "      <td>4.7</td>\n",
       "      <td>17.3</td>\n",
       "      <td>2.3</td>\n",
       "      <td>0.7</td>\n",
       "      <td>0.4</td>\n",
       "      <td>0.534</td>\n",
       "      <td>0.208</td>\n",
       "      <td>0.520</td>\n",
       "      <td>8.7</td>\n",
       "      <td>0.140</td>\n",
       "    </tr>\n",
       "    <tr>\n",
       "      <th>13</th>\n",
       "      <td>11T</td>\n",
       "      <td>Latrell Sprewell</td>\n",
       "      <td>23</td>\n",
       "      <td>GSW</td>\n",
       "      <td>0</td>\n",
       "      <td>1</td>\n",
       "      <td>1010</td>\n",
       "      <td>0.001</td>\n",
       "      <td>82</td>\n",
       "      <td>43.1</td>\n",
       "      <td>21.0</td>\n",
       "      <td>4.9</td>\n",
       "      <td>4.7</td>\n",
       "      <td>2.2</td>\n",
       "      <td>0.9</td>\n",
       "      <td>0.433</td>\n",
       "      <td>0.361</td>\n",
       "      <td>0.774</td>\n",
       "      <td>8.0</td>\n",
       "      <td>0.108</td>\n",
       "    </tr>\n",
       "    <tr>\n",
       "      <th>14</th>\n",
       "      <td>11T</td>\n",
       "      <td>John Stockton</td>\n",
       "      <td>31</td>\n",
       "      <td>UTA</td>\n",
       "      <td>0</td>\n",
       "      <td>1</td>\n",
       "      <td>1010</td>\n",
       "      <td>0.001</td>\n",
       "      <td>82</td>\n",
       "      <td>36.2</td>\n",
       "      <td>15.1</td>\n",
       "      <td>3.1</td>\n",
       "      <td>12.6</td>\n",
       "      <td>2.4</td>\n",
       "      <td>0.3</td>\n",
       "      <td>0.528</td>\n",
       "      <td>0.322</td>\n",
       "      <td>0.805</td>\n",
       "      <td>13.2</td>\n",
       "      <td>0.214</td>\n",
       "    </tr>\n",
       "    <tr>\n",
       "      <th>15</th>\n",
       "      <td>11T</td>\n",
       "      <td>Dominique Wilkins</td>\n",
       "      <td>34</td>\n",
       "      <td>TOT</td>\n",
       "      <td>0</td>\n",
       "      <td>1</td>\n",
       "      <td>1010</td>\n",
       "      <td>0.001</td>\n",
       "      <td>74</td>\n",
       "      <td>35.6</td>\n",
       "      <td>26.0</td>\n",
       "      <td>6.5</td>\n",
       "      <td>2.3</td>\n",
       "      <td>1.2</td>\n",
       "      <td>0.4</td>\n",
       "      <td>0.440</td>\n",
       "      <td>0.288</td>\n",
       "      <td>0.847</td>\n",
       "      <td>8.4</td>\n",
       "      <td>0.153</td>\n",
       "    </tr>\n",
       "    <tr>\n",
       "      <th>16</th>\n",
       "      <td>11T</td>\n",
       "      <td>Kevin Willis</td>\n",
       "      <td>31</td>\n",
       "      <td>ATL</td>\n",
       "      <td>0</td>\n",
       "      <td>1</td>\n",
       "      <td>1010</td>\n",
       "      <td>0.001</td>\n",
       "      <td>80</td>\n",
       "      <td>35.8</td>\n",
       "      <td>19.1</td>\n",
       "      <td>12.0</td>\n",
       "      <td>1.9</td>\n",
       "      <td>1.0</td>\n",
       "      <td>0.5</td>\n",
       "      <td>0.499</td>\n",
       "      <td>0.375</td>\n",
       "      <td>0.713</td>\n",
       "      <td>10.2</td>\n",
       "      <td>0.170</td>\n",
       "    </tr>\n",
       "  </tbody>\n",
       "</table>\n",
       "</div>"
      ],
      "text/plain": [
       "   Rank             Player  Age   Tm  First  Pts Won  Pts Max  Share   G  \\\n",
       "0     1    Hakeem Olajuwon   31  HOU     66      889     1010  0.880  80   \n",
       "1     2     David Robinson   28  SAS     24      730     1010  0.723  80   \n",
       "2     3     Scottie Pippen   28  CHI      7      390     1010  0.386  72   \n",
       "3     4   Shaquille O'Neal   21  ORL      3      289     1010  0.286  81   \n",
       "4     5      Patrick Ewing   31  NYK      1      255     1010  0.252  79   \n",
       "5     6        Gary Payton   25  SEA      0       20     1010  0.020  82   \n",
       "6    7T         Shawn Kemp   24  SEA      0       17     1010  0.017  79   \n",
       "7    7T        Karl Malone   30  UTA      0       17     1010  0.017  82   \n",
       "8     9         Mark Price   29  CLE      0        7     1010  0.007  76   \n",
       "9    10    Charles Barkley   30  PHO      0        5     1010  0.005  65   \n",
       "10  11T    Mookie Blaylock   26  ATL      0        1     1010  0.001  81   \n",
       "11  11T      Kevin Johnson   27  PHO      0        1     1010  0.001  67   \n",
       "12  11T      Dennis Rodman   32  SAS      0        1     1010  0.001  79   \n",
       "13  11T   Latrell Sprewell   23  GSW      0        1     1010  0.001  82   \n",
       "14  11T      John Stockton   31  UTA      0        1     1010  0.001  82   \n",
       "15  11T  Dominique Wilkins   34  TOT      0        1     1010  0.001  74   \n",
       "16  11T       Kevin Willis   31  ATL      0        1     1010  0.001  80   \n",
       "\n",
       "      MP   PTS   TRB   AST  STL  BLK    FG%    3P%    FT%    WS  WS/48  \n",
       "0   41.0  27.3  11.9   3.6  1.6  3.7  0.528  0.421  0.716  14.3  0.210  \n",
       "1   40.5  29.8  10.7   4.8  1.7  3.3  0.507  0.345  0.749  20.0  0.296  \n",
       "2   38.3  22.0   8.7   5.6  2.9  0.8  0.491  0.320  0.660  11.2  0.194  \n",
       "3   39.8  29.3  13.2   2.4  0.9  2.9  0.599  0.000  0.554  16.9  0.252  \n",
       "4   37.6  24.5  11.2   2.3  1.1  2.7  0.496  0.286  0.765  13.1  0.211  \n",
       "5   35.1  16.5   3.3   6.0  2.3  0.2  0.504  0.278  0.595   9.3  0.155  \n",
       "6   32.9  18.1  10.8   2.6  1.8  2.1  0.538  0.250  0.741  11.7  0.216  \n",
       "7   40.6  25.2  11.5   4.0  1.5  1.5  0.497  0.250  0.694  13.4  0.193  \n",
       "8   31.4  17.3   3.0   7.8  1.4  0.1  0.478  0.397  0.888  10.0  0.201  \n",
       "9   35.4  21.6  11.2   4.6  1.6  0.6  0.495  0.270  0.704   8.8  0.185  \n",
       "10  36.0  13.8   5.2   9.7  2.6  0.5  0.411  0.334  0.730  10.2  0.168  \n",
       "11  36.6  20.0   2.5   9.5  1.9  0.1  0.487  0.222  0.819   8.7  0.170  \n",
       "12  37.8   4.7  17.3   2.3  0.7  0.4  0.534  0.208  0.520   8.7  0.140  \n",
       "13  43.1  21.0   4.9   4.7  2.2  0.9  0.433  0.361  0.774   8.0  0.108  \n",
       "14  36.2  15.1   3.1  12.6  2.4  0.3  0.528  0.322  0.805  13.2  0.214  \n",
       "15  35.6  26.0   6.5   2.3  1.2  0.4  0.440  0.288  0.847   8.4  0.153  \n",
       "16  35.8  19.1  12.0   1.9  1.0  0.5  0.499  0.375  0.713  10.2  0.170  "
      ]
     },
     "execution_count": 21,
     "metadata": {},
     "output_type": "execute_result"
    }
   ],
   "source": [
    "mvp_1991"
   ]
  },
  {
   "cell_type": "code",
   "execution_count": 22,
   "id": "0a6f521c-0440-4e91-b1dd-c42fc901c643",
   "metadata": {
    "tags": []
   },
   "outputs": [
    {
     "ename": "AttributeError",
     "evalue": "'NoneType' object has no attribute 'decompose'",
     "output_type": "error",
     "traceback": [
      "\u001b[1;31m---------------------------------------------------------------------------\u001b[0m",
      "\u001b[1;31mAttributeError\u001b[0m                            Traceback (most recent call last)",
      "Cell \u001b[1;32mIn[22], line 6\u001b[0m\n\u001b[0;32m      4\u001b[0m     page \u001b[38;5;241m=\u001b[39m f\u001b[38;5;241m.\u001b[39mread()\n\u001b[0;32m      5\u001b[0m soup \u001b[38;5;241m=\u001b[39m BeautifulSoup(page, \u001b[38;5;124m\"\u001b[39m\u001b[38;5;124mhtml.parser\u001b[39m\u001b[38;5;124m\"\u001b[39m)\n\u001b[1;32m----> 6\u001b[0m soup\u001b[38;5;241m.\u001b[39mfind(\u001b[38;5;124m'\u001b[39m\u001b[38;5;124mtr\u001b[39m\u001b[38;5;124m'\u001b[39m,class_\u001b[38;5;241m=\u001b[39m\u001b[38;5;124m\"\u001b[39m\u001b[38;5;124mover_header\u001b[39m\u001b[38;5;124m\"\u001b[39m)\u001b[38;5;241m.\u001b[39mdecompose()\n\u001b[0;32m      7\u001b[0m mvp_table \u001b[38;5;241m=\u001b[39m soup\u001b[38;5;241m.\u001b[39mfind(\u001b[38;5;28mid\u001b[39m\u001b[38;5;241m=\u001b[39m\u001b[38;5;124m\"\u001b[39m\u001b[38;5;124mmvp\u001b[39m\u001b[38;5;124m\"\u001b[39m)\n\u001b[0;32m      8\u001b[0m mvp \u001b[38;5;241m=\u001b[39m pd\u001b[38;5;241m.\u001b[39mread_html(\u001b[38;5;28mstr\u001b[39m(mvp_table))[\u001b[38;5;241m0\u001b[39m]\n",
      "\u001b[1;31mAttributeError\u001b[0m: 'NoneType' object has no attribute 'decompose'"
     ]
    }
   ],
   "source": [
    "dfs = []\n",
    "for year in years:\n",
    "    with open(\"mvp/{}.html\".format(year), encoding='utf-8') as f:\n",
    "        page = f.read()\n",
    "    soup = BeautifulSoup(page, \"html.parser\")\n",
    "    soup.find('tr',class_=\"over_header\").decompose()\n",
    "    mvp_table = soup.find(id=\"mvp\")\n",
    "    mvp = pd.read_html(str(mvp_table))[0]\n",
    "    mvp[\"Year\"] = year\n",
    "    \n",
    "    dfs.append(mvp)"
   ]
  },
  {
   "cell_type": "code",
   "execution_count": null,
   "id": "f990be2a-582a-4857-8fdc-1e14f5f2b041",
   "metadata": {
    "tags": []
   },
   "outputs": [],
   "source": [
    "mvps = pd.concat(dfs)"
   ]
  },
  {
   "cell_type": "code",
   "execution_count": null,
   "id": "c2286386-e066-4a0d-8669-d4026d62b4e5",
   "metadata": {
    "tags": []
   },
   "outputs": [],
   "source": [
    "mvps.head()"
   ]
  },
  {
   "cell_type": "code",
   "execution_count": null,
   "id": "2f4df49b-76b4-4b69-835e-3de4cfa0554d",
   "metadata": {
    "tags": []
   },
   "outputs": [],
   "source": [
    "mvps.to_csv(\"mvps.csv\")"
   ]
  },
  {
   "cell_type": "markdown",
   "id": "b174e431-caa3-466c-b4fe-368845985600",
   "metadata": {},
   "source": [
    "Now we need all player data in order to make comparisons for our ML model"
   ]
  },
  {
   "cell_type": "code",
   "execution_count": null,
   "id": "a350cf8d-2337-4dd5-9d50-f9169b52bfa0",
   "metadata": {
    "tags": []
   },
   "outputs": [],
   "source": [
    "player_stats_url = \"https://www.basketball-reference.com/leagues/NBA_{}_per_game.html\"\n",
    "\n",
    "url = player_stats_url.format(1991)\n",
    "data = requests.get(url)\n",
    "with open(\"player/1991.html\", \"w+\", encoding='utf-8') as f:\n",
    "    f.write(data.text)"
   ]
  },
  {
   "cell_type": "code",
   "execution_count": null,
   "id": "eea39fb7-ffb0-491e-a109-8ceb7d6d0b9c",
   "metadata": {
    "tags": []
   },
   "outputs": [],
   "source": [
    "!pip install selenium"
   ]
  },
  {
   "cell_type": "code",
   "execution_count": null,
   "id": "6384fc05-ceb9-4aa2-b825-ea23885b3be5",
   "metadata": {
    "tags": []
   },
   "outputs": [],
   "source": [
    "from selenium import webdriver"
   ]
  },
  {
   "cell_type": "code",
   "execution_count": null,
   "id": "67335f13-a38b-43c2-a967-ec2664ccd532",
   "metadata": {
    "tags": []
   },
   "outputs": [],
   "source": [
    "driver = webdriver.Chrome()"
   ]
  },
  {
   "cell_type": "code",
   "execution_count": null,
   "id": "e358d795-4f0e-434c-a447-2e48816f0e3f",
   "metadata": {
    "tags": []
   },
   "outputs": [],
   "source": [
    "import time\n",
    "\n",
    "year = 1991\n",
    "url = player_stats_url.format(year)\n",
    "\n",
    "driver.get(url)\n",
    "last_height = driver.execute_script(\"window.scrollTo(1,10000)\")\n",
    "time.sleep(2)\n",
    "\n",
    "html = driver.page_source"
   ]
  },
  {
   "cell_type": "code",
   "execution_count": null,
   "id": "046671d9-6df9-4fce-9ac9-964f920706df",
   "metadata": {
    "tags": []
   },
   "outputs": [],
   "source": [
    "with open(\"player/{}.html\".format(year), \"w+\", encoding='utf-8') as f:\n",
    "    f.write(html)"
   ]
  },
  {
   "cell_type": "code",
   "execution_count": null,
   "id": "e36ba31a-5e38-4b48-a9a2-def593f00a30",
   "metadata": {
    "tags": []
   },
   "outputs": [],
   "source": [
    "for year in years:\n",
    "    url = player_stats_url.format(year)\n",
    "\n",
    "    driver.get(url)\n",
    "    last_height = driver.execute_script(\"window.scrollTo(1,10000)\")\n",
    "    time.sleep(2)\n",
    "\n",
    "    html = driver.page_source\n",
    "    with open(\"player/{}.html\".format(year), \"w+\", encoding='utf-8') as f:\n",
    "        f.write(html)"
   ]
  },
  {
   "cell_type": "code",
   "execution_count": null,
   "id": "5dd04fb2-4ccc-4ac3-8b21-551c4a227caf",
   "metadata": {
    "tags": []
   },
   "outputs": [],
   "source": [
    "dfs = []\n",
    "for year in years:\n",
    "    with open(\"player/{}.html\".format(year), encoding='utf-8') as f:\n",
    "        page = f.read()\n",
    "    \n",
    "    soup = BeautifulSoup(page, \"html.parser\")\n",
    "    soup.find('tr',class_=\"thead\").decompose()\n",
    "    player_table = soup.find(id=\"per_game_stats\")\n",
    "    player = pd.read_html(str(player_table))[0]\n",
    "    player[\"Year\"] = year\n",
    "    dfs.append(player)"
   ]
  },
  {
   "cell_type": "code",
   "execution_count": null,
   "id": "fa889822-92a6-41ee-8644-419e9ddeed56",
   "metadata": {
    "tags": []
   },
   "outputs": [],
   "source": [
    "players = pd.concat(dfs)"
   ]
  },
  {
   "cell_type": "code",
   "execution_count": null,
   "id": "8038bdb6-2883-4add-a9a5-b3d650103583",
   "metadata": {
    "tags": []
   },
   "outputs": [],
   "source": [
    "players.to_csv(\"players.csv\")"
   ]
  },
  {
   "cell_type": "markdown",
   "id": "2b2079a7-3a47-4757-a3c7-8d5a36eed9fe",
   "metadata": {},
   "source": [
    "Lastly, we will need all team record data because a teams record is a very important factor in MVP voting"
   ]
  },
  {
   "cell_type": "code",
   "execution_count": null,
   "id": "7547044f-a71e-47e7-bf4f-3eb1d86f0271",
   "metadata": {
    "tags": []
   },
   "outputs": [],
   "source": [
    "team_stats_url = \"https://www.basketball-reference.com/leagues/NBA_{}_standings.html\""
   ]
  },
  {
   "cell_type": "code",
   "execution_count": null,
   "id": "7b7cda56-89d8-46b8-94e2-3d481dba736b",
   "metadata": {
    "tags": []
   },
   "outputs": [],
   "source": [
    "for year in years:\n",
    "    url = team_stats_url.format(year)\n",
    "\n",
    "    data = requests.get(url)\n",
    "\n",
    "    with open(\"team/{}.html\".format(year), \"w+\", encoding='utf-8') as f:\n",
    "        f.write(data.text)"
   ]
  },
  {
   "cell_type": "code",
   "execution_count": null,
   "id": "292461a6-bc58-45c5-89db-96723ee7ce04",
   "metadata": {
    "tags": []
   },
   "outputs": [],
   "source": [
    "!pip install html5lib\n",
    "import html5lib"
   ]
  },
  {
   "cell_type": "code",
   "execution_count": null,
   "id": "825c8d65-6114-4478-bb88-94129ab6a71d",
   "metadata": {
    "tags": []
   },
   "outputs": [],
   "source": [
    "!pip install --upgrade pip"
   ]
  },
  {
   "cell_type": "code",
   "execution_count": null,
   "id": "1f1a53af-6f3c-43cf-9f59-d4fc365ef263",
   "metadata": {
    "tags": []
   },
   "outputs": [],
   "source": [
    "dfs = []\n",
    "for year in years:\n",
    "    with open(\"team/{}.html\".format(year), encoding='utf-8') as f:\n",
    "        page = f.read()\n",
    "\n",
    "    soup = BeautifulSoup(page, \"html.parser\")\n",
    "    soup.find('tr',class_=\"thead\").decompose()\n",
    "    team_table = soup.find(id=\"divs_standing_E\")\n",
    "    team = pd.read_html(str(team_table))[0]\n",
    "    team[\"Year\"] = year\n",
    "    team[\"Team\"] = team[\"Eastern Conference\"]\n",
    "    del team[\"Eastern Conference\"]\n",
    "    dfs.append(team)\n",
    "\n",
    "    soup = BeautifulSoup(page, \"html.parser\")\n",
    "    soup.find('tr',class_=\"thead\").decompose()\n",
    "    team_table = soup.find(id=\"divs_standing_W\")\n",
    "    team = pd.read_html(str(team_table))[0]\n",
    "    team[\"Year\"] = year\n",
    "    team[\"Team\"] = team[\"Western Conference\"]\n",
    "    del team[\"Western Conference\"]\n",
    "    dfs.append(team)"
   ]
  },
  {
   "cell_type": "code",
   "execution_count": null,
   "id": "8a8813e1-aedb-4348-a6d0-5f900af126f6",
   "metadata": {
    "tags": []
   },
   "outputs": [],
   "source": [
    "teams = pd.concat(dfs)"
   ]
  },
  {
   "cell_type": "code",
   "execution_count": null,
   "id": "d2b931c5-641f-4d8f-9d98-8ef8c19b6957",
   "metadata": {},
   "outputs": [],
   "source": [
    "teams.to_csv(\"teams.csv\")"
   ]
  },
  {
   "cell_type": "code",
   "execution_count": null,
   "id": "aaec4075-4cf7-4477-b254-f8bd1308bc1b",
   "metadata": {},
   "outputs": [],
   "source": []
  }
 ],
 "metadata": {
  "kernelspec": {
   "display_name": "Python 3 (ipykernel)",
   "language": "python",
   "name": "python3"
  },
  "language_info": {
   "codemirror_mode": {
    "name": "ipython",
    "version": 3
   },
   "file_extension": ".py",
   "mimetype": "text/x-python",
   "name": "python",
   "nbconvert_exporter": "python",
   "pygments_lexer": "ipython3",
   "version": "3.11.5"
  }
 },
 "nbformat": 4,
 "nbformat_minor": 5
}
